{
  "cells": [
    {
      "cell_type": "code",
      "execution_count": null,
      "metadata": {
        "id": "QiM8zpVCNRuR"
      },
      "outputs": [],
      "source": [
        "import matplotlib.pyplot as plt\n",
        "import tensorstore as ts"
      ]
    },
    {
      "cell_type": "code",
      "execution_count": null,
      "metadata": {
        "id": "2C7GdbAVWLR5"
      },
      "outputs": [],
      "source": [
        "# Create handle to the remote dataset.\n",
        "ds_traces = ts.open({\n",
        "    'open': True,\n",
        "    'driver': 'zarr3',\n",
        "    'kvstore': 'gs://zapbench-release/volumes/20240930/traces'\n",
        "}).result()\n",
        "\n",
        "ds_traces.schema"
      ]
    },
    {
      "cell_type": "code",
      "execution_count": null,
      "metadata": {},
      "outputs": [],
      "source": [
        "ds_traces.shape"
      ]
    },
    {
      "cell_type": "code",
      "execution_count": null,
      "metadata": {},
      "outputs": [],
      "source": [
        "7879 * 71721"
      ]
    },
    {
      "cell_type": "code",
      "execution_count": null,
      "metadata": {
        "id": "8lqmGYUeW38A"
      },
      "outputs": [],
      "source": [
        "from zapbench import constants\n",
        "from zapbench import data_utils\n",
        "\n",
        "# Print the indexing bounds per condition.\n",
        "# Note that we keep a minimal amount of \"padding\" between conditions.\n",
        "for condition_id, condition_name in enumerate(constants.CONDITION_NAMES):\n",
        "  inclusive_min, exclusive_max = data_utils.get_condition_bounds(condition_id)\n",
        "  print(f'{condition_name} has bounds [{inclusive_min}, {exclusive_max}).')"
      ]
    },
    {
      "cell_type": "markdown",
      "metadata": {
        "id": "-stosEzHX5yp"
      },
      "source": [
        "Using these bounds, we can get traces for any given condition, e.g.:"
      ]
    },
    {
      "cell_type": "code",
      "execution_count": null,
      "metadata": {
        "id": "AD9hsGS9X-Od"
      },
      "outputs": [],
      "source": [
        "condition_name = 'turning'\n",
        "\n",
        "# Use the bounds to plot the traces of one of the conditions.\n",
        "inclusive_min, exclusive_max = data_utils.get_condition_bounds(\n",
        "    constants.CONDITION_NAMES.index(condition_name))\n",
        "traces_condition = ds_traces[inclusive_min:exclusive_max, :].read().result()\n",
        "\n",
        "# Plot traces.\n",
        "# fig = plt.figure(figsize=(12, 12))\n",
        "# plt.title(f'traces for {condition_name} condition')\n",
        "# im = plt.imshow(traces_condition.T, aspect=\"auto\")\n",
        "# plt.xlabel('timestep')\n",
        "# plt.ylabel('neuron')\n",
        "# cbar = fig.colorbar(im)\n",
        "# cbar.set_label(\"normalized activity (df/f)\")\n",
        "# plt.show();"
      ]
    },
    {
      "cell_type": "code",
      "execution_count": null,
      "metadata": {},
      "outputs": [],
      "source": [
        "traces_condition"
      ]
    },
    {
      "cell_type": "code",
      "execution_count": null,
      "metadata": {},
      "outputs": [],
      "source": []
    }
  ],
  "metadata": {
    "colab": {
      "private_outputs": true,
      "provenance": []
    },
    "kernelspec": {
      "display_name": "zapbench",
      "language": "python",
      "name": "python3"
    },
    "language_info": {
      "codemirror_mode": {
        "name": "ipython",
        "version": 3
      },
      "file_extension": ".py",
      "mimetype": "text/x-python",
      "name": "python",
      "nbconvert_exporter": "python",
      "pygments_lexer": "ipython3",
      "version": "3.11.11"
    }
  },
  "nbformat": 4,
  "nbformat_minor": 0
}
