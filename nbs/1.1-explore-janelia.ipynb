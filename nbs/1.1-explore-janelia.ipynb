{
 "cells": [
  {
   "cell_type": "code",
   "execution_count": null,
   "metadata": {},
   "outputs": [],
   "source": [
    "import numpy as np\n",
    "import h5py\n",
    "import matplotlib.pyplot as plt\n",
    "import scienceplots\n",
    "import scipy\n",
    "\n",
    "import tensorstore as ts\n",
    "\n",
    "plt.style.use(['science', 'no-latex'])\n",
    "\n",
    "def format_ax(ax):\n",
    "  for spine in ax.spines.values():\n",
    "    spine.set_linewidth(1.2)\n",
    "  ax.spines['top'].set_visible(False)\n",
    "  ax.spines['right'].set_visible(False)\n",
    "  ax.spines['bottom'].set_visible(False)\n",
    "  ax.tick_params(which='minor', length=0)\n",
    "  ax.tick_params(axis='both', labelsize=12)\n",
    "  # Set all spines invisible\n",
    "  for spine in ax.spines.values():\n",
    "    spine.set_visible(False)\n",
    "  # Hide all ticks and tick labels\n",
    "  ax.tick_params(axis='both', which='both', bottom=False, top=False, left=False, right=False, labelbottom=False, labelleft=False)\n",
    "  ax.tick_params(axis='y', which='both', left=False, right=False, direction=\"out\", width=1.2)"
   ]
  },
  {
   "cell_type": "code",
   "execution_count": null,
   "metadata": {},
   "outputs": [],
   "source": [
    "PATH = \"/Users/s/vault/neural_data/janelia\""
   ]
  },
  {
   "cell_type": "code",
   "execution_count": null,
   "metadata": {},
   "outputs": [],
   "source": [
    "subject_id = \"14\"\n",
    "ds_janelia = ts.open({\n",
    "    'open': True,\n",
    "    'driver': 'zarr3',\n",
    "    'kvstore': f'file://{PATH}/ts_files/subject_{subject_id}_traces.zarr'\n",
    "}).result()"
   ]
  },
  {
   "cell_type": "code",
   "execution_count": null,
   "metadata": {},
   "outputs": [],
   "source": [
    "x = ds_janelia.read().result()"
   ]
  },
  {
   "cell_type": "code",
   "execution_count": null,
   "metadata": {},
   "outputs": [],
   "source": [
    "fig, axs = plt.subplots(50, figsize=(10, 20), dpi=200)\n",
    "for i in range(0, 50):\n",
    "  ax = axs[i]\n",
    "  ax.plot(x[:, i*50],'k',linewidth=1)\n",
    "  format_ax(ax)\n",
    "  # ax.set_yscale('log')\n",
    "plt.tight_layout()\n",
    "plt.show()"
   ]
  },
  {
   "cell_type": "code",
   "execution_count": null,
   "metadata": {},
   "outputs": [],
   "source": []
  },
  {
   "cell_type": "code",
   "execution_count": null,
   "metadata": {},
   "outputs": [],
   "source": []
  },
  {
   "cell_type": "code",
   "execution_count": null,
   "metadata": {},
   "outputs": [],
   "source": []
  },
  {
   "cell_type": "code",
   "execution_count": null,
   "metadata": {},
   "outputs": [],
   "source": []
  },
  {
   "cell_type": "code",
   "execution_count": null,
   "metadata": {},
   "outputs": [],
   "source": []
  },
  {
   "cell_type": "code",
   "execution_count": null,
   "metadata": {},
   "outputs": [],
   "source": []
  },
  {
   "cell_type": "markdown",
   "metadata": {},
   "source": [
    "mat files"
   ]
  },
  {
   "cell_type": "code",
   "execution_count": null,
   "metadata": {},
   "outputs": [],
   "source": [
    "data_struct['stimset'][0, 0]"
   ]
  },
  {
   "cell_type": "code",
   "execution_count": null,
   "metadata": {},
   "outputs": [],
   "source": [
    "print('freq: --', data_struct['fpsec'].ravel()[0])\n",
    "print('dur:  --', data_struct['timelists'][0, 0].ravel().max() / (1.97 * 60))"
   ]
  },
  {
   "cell_type": "code",
   "execution_count": null,
   "metadata": {},
   "outputs": [],
   "source": [
    "conditions = [0, 1, 2, 3]\n",
    "condition = 3\n",
    "ix_by_condition = np.where(data_struct['stim_full'].ravel() == condition)[0]"
   ]
  },
  {
   "cell_type": "code",
   "execution_count": null,
   "metadata": {},
   "outputs": [],
   "source": [
    "interval_ix = np.where(np.diff(ix_by_condition) != 1)[0]\n",
    "condition_intervals = tuple()\n",
    "condition_intervals_by_condition = tuple()\n",
    "for i, j in zip(np.insert(interval_ix, 0, -1), np.insert(interval_ix, len(interval_ix), len(ix_by_condition)-1)):\n",
    "  condition_intervals_by_condition = condition_intervals + ((int(ix_by_condition[i+1]), int(ix_by_condition[j])),)"
   ]
  },
  {
   "cell_type": "code",
   "execution_count": null,
   "metadata": {},
   "outputs": [],
   "source": [
    "condition_intervals"
   ]
  },
  {
   "cell_type": "code",
   "execution_count": null,
   "metadata": {},
   "outputs": [],
   "source": []
  },
  {
   "cell_type": "code",
   "execution_count": null,
   "metadata": {},
   "outputs": [],
   "source": []
  },
  {
   "cell_type": "code",
   "execution_count": null,
   "metadata": {},
   "outputs": [],
   "source": []
  },
  {
   "cell_type": "code",
   "execution_count": null,
   "metadata": {},
   "outputs": [],
   "source": []
  },
  {
   "cell_type": "code",
   "execution_count": null,
   "metadata": {},
   "outputs": [],
   "source": []
  },
  {
   "cell_type": "code",
   "execution_count": null,
   "metadata": {},
   "outputs": [],
   "source": []
  },
  {
   "cell_type": "markdown",
   "metadata": {},
   "source": [
    "Important features to save\n",
    "- CellXYZ (n_neurons, 3)\n",
    "- stim_full (1, n_t)\n",
    "- Behavior_full (5, n_t)"
   ]
  },
  {
   "cell_type": "code",
   "execution_count": null,
   "metadata": {},
   "outputs": [],
   "source": [
    "from zapbench import constants\n",
    "\n",
    "constants.get_dataset_config(constants.DEFAULT_DATASET);"
   ]
  },
  {
   "cell_type": "code",
   "execution_count": null,
   "metadata": {},
   "outputs": [],
   "source": []
  },
  {
   "cell_type": "code",
   "execution_count": null,
   "metadata": {},
   "outputs": [],
   "source": []
  },
  {
   "cell_type": "code",
   "execution_count": null,
   "metadata": {},
   "outputs": [],
   "source": []
  },
  {
   "cell_type": "code",
   "execution_count": null,
   "metadata": {},
   "outputs": [],
   "source": []
  },
  {
   "cell_type": "code",
   "execution_count": null,
   "metadata": {},
   "outputs": [],
   "source": [
    "def save_ts(x: np.ndarray, subject_id: str, data_type: str) -> None:\n",
    "  \"\"\"Save np array to ts.\"\"\"\n",
    "  spec = {\n",
    "      'driver': 'zarr3',\n",
    "      'kvstore': {'driver': 'file', 'path': f'{PATH_STORE}/subject_{subject_id}_{data_type}.zarr'},\n",
    "      'metadata': {\n",
    "          'shape': [*x.shape],\n",
    "          'chunk_grid': {'name': 'regular', 'configuration': {'chunk_shape': [512, 512]}},\n",
    "          'chunk_key_encoding': {'name': 'default'},\n",
    "          'codecs': [{'name': 'bytes', 'configuration': {'endian': 'little'}}],\n",
    "          'data_type': 'float32',\n",
    "          'fill_value': 0.0\n",
    "      }\n",
    "  }\n",
    "  ds = ts.open(spec, create=True).result()\n",
    "  ds[...] = x\n",
    "\n",
    "def save_janelia(subject_id: str) -> None:\n",
    "\n",
    "  h5_path = f\"{PATH_LOAD}/subject_{subject_id}/\"\n",
    "  x = h5py.File(f\"{h5_path}/TimeSeries.h5\", \"r\")\n",
    "  x = np.array(x['CellResp']).astype(np.float32)\n",
    "  save_ts(x, subject_id, \"traces\")\n",
    "\n",
    "  mat_path = f\"{PATH_LOAD}/subject_{subject_id}/data_full.mat\"\n",
    "  data_struct = scipy.io.loadmat(mat_path)['data'][0, 0]\n",
    "\n",
    "  coordinates = data_struct['CellXYZ'].astype(np.float32)\n",
    "  save_ts(coordinates, subject_id, \"coordinates\")\n",
    "  behavioral_covariates = data_struct['Behavior_full'].T.astype(np.float32)\n",
    "  save_ts(behavioral_covariates, subject_id, \"behavioral_covariates\")\n",
    "\n",
    "\n",
    "def create_config():\n",
    "  pass"
   ]
  },
  {
   "cell_type": "markdown",
   "metadata": {},
   "source": [
    "Save"
   ]
  },
  {
   "cell_type": "code",
   "execution_count": null,
   "metadata": {},
   "outputs": [],
   "source": [
    "PATH_LOAD = \"/Users/s/vault/neural_data/janelia/\"\n",
    "PATH_STORE = \"/Users/s/vault/neural_data/janelia/ts_files\"\n",
    "\n",
    "# save_janelia(14)"
   ]
  },
  {
   "cell_type": "markdown",
   "metadata": {},
   "source": [
    "Load"
   ]
  },
  {
   "cell_type": "code",
   "execution_count": null,
   "metadata": {},
   "outputs": [],
   "source": [
    "data_types = [\"traces\", \"coordinates\", \"behavioral_covariates\"]\n",
    "\n",
    "for data_type in data_types:\n",
    "\n",
    "  ds_janelia = ts.open({\n",
    "      'open': True,\n",
    "      'driver': 'zarr3',\n",
    "      'kvstore': f'file://{PATH_STORE}/subject_{subject_id}_{data_type}.zarr'\n",
    "  }).result()\n",
    "\n",
    "  print(ds_janelia.shape)"
   ]
  },
  {
   "cell_type": "code",
   "execution_count": null,
   "metadata": {},
   "outputs": [],
   "source": [
    "def generate_dataset_config(dataset_name: str) -> None:\n",
    "  pass\n",
    "\n",
    "DATASET_CONFIGS = {\n",
    "    '[NAME]': {\n",
    "        'condition_intervals': ( [SELF: UPDATE TO CORRECT INTERVALS]\n",
    "            ((0, 649),),\n",
    "            ((649, 2422),),\n",
    "            ((2422, 3078),),\n",
    "            ((3078, 3735),),\n",
    "            ((3735, 5047),),\n",
    "            ((5047, 5638),),\n",
    "            ((5638, 6623),),\n",
    "            ((6623, 7279),),\n",
    "            ((7279, 7879),),\n",
    "        ),\n",
    "        'condition_names': (\n",
    "            'taxis'\n",
    "            'optomotor_response'\n",
    "            'looming'\n",
    "            'dark-flash response'\n",
    "        ),\n",
    "        'conditions_train': (0, 1, 3),\n",
    "        'conditions_holdout': (2,),\n",
    "        'timeseries_name': 'subject_{subject_id}',\n",
    "        'covariate_series_name': '240930_stimuli_features', [BETTER NAME]\n",
    "        'specs': {\n",
    "            'subject_{subject_id}': {\n",
    "                'kvstore': path_to_traces,\n",
    "                'driver': 'zarr3',\n",
    "                'transform': {\n",
    "                    'input_exclusive_max': [[7879], 71721], [SHAPE HERE]\n",
    "                    'input_inclusive_min': [0, 0],\n",
    "                    'input_labels': ['t', 'f'],\n",
    "                },\n",
    "            },\n",
    "        },\n",
    "        'covariate_specs': {\n",
    "            '240930_stimuli_features': { [SAME]\n",
    "                'kvstore': (\n",
    "                    'gs://zapbench-release/volumes/20240930/stimuli_features/' [PATH]\n",
    "                ),\n",
    "                'driver': 'zarr', [UPDATE DRIVER SPECS]\n",
    "                'rank': 2,\n",
    "                'metadata': {'shape': [7879, 26]},\n",
    "                'transform': {\n",
    "                    'input_inclusive_min': [0, 0],\n",
    "                    'input_exclusive_max': [[7879], [26]],\n",
    "                    'input_labels': ['t', 'f'],\n",
    "                },\n",
    "        },\n",
    "        'min_max_values': {\n",
    "            '240930_traces': (-0.25, 1.5), [SELF: CHECK THIS BEFORE SAVING, AND CLIP OFF IF NEEDED IN SAVE, OR MAYBE MAKE A PREPROCESSING FN]\n",
    "        },\n",
    "        'position_embedding_specs': { [SAME SET OF CHANGES HERE]\n",
    "            '240930_traces': {\n",
    "                'kvstore': (\n",
    "                    'gs://zapbench-release/volumes/20240930/position_embedding/'\n",
    "                ),\n",
    "                'driver': 'zarr',\n",
    "                'rank': 2,\n",
    "                'metadata': {'shape': [71721, 192]},\n",
    "                'transform': {\n",
    "                    'input_inclusive_min': [0, 0],\n",
    "                    'input_exclusive_max': [[71721], [192]],\n",
    "                    'input_labels': ['f', 'a'],\n",
    "                },\n",
    "            }\n",
    "        },\n",
    "    },\n",
    "}"
   ]
  }
 ],
 "metadata": {
  "kernelspec": {
   "display_name": "zapbench",
   "language": "python",
   "name": "python3"
  },
  "language_info": {
   "codemirror_mode": {
    "name": "ipython",
    "version": 3
   },
   "file_extension": ".py",
   "mimetype": "text/x-python",
   "name": "python",
   "nbconvert_exporter": "python",
   "pygments_lexer": "ipython3",
   "version": "3.11.11"
  }
 },
 "nbformat": 4,
 "nbformat_minor": 2
}
