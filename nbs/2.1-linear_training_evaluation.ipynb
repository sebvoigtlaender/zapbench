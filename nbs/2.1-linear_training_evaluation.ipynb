{
 "cells": [
  {
   "cell_type": "code",
   "execution_count": 2,
   "id": "d7b7d67b",
   "metadata": {},
   "outputs": [
    {
     "name": "stdout",
     "output_type": "stream",
     "text": [
      "=== Model Structure ===\n",
      "Nlinear(\n",
      "    # attributes\n",
      "    config = NlinearConfig(num_outputs=32, constant_init=True, normalization=False)\n",
      ")\n",
      "\n",
      "=== Parameter Shapes ===\n",
      "{'Dense_0': {'bias': (32,), 'kernel': (4, 32)}}\n",
      "\n",
      "=== Detailed Parameters ===\n",
      "Dense_0.bias         (32,) (32 params)\n",
      "Dense_0.kernel       (4, 32) (128 params)\n",
      "\n",
      "=== Model Tabulate ===\n",
      "\n",
      "\u001b[3m                                Nlinear Summary                                 \u001b[0m\n",
      "┏━━━━━━━━━┳━━━━━━━━━┳━━━━━━━━━━━━━━━━━━━┳━━━━━━━━━━━━━━━━━━┳━━━━━━━━━━━━━━━━━━━┓\n",
      "┃\u001b[1m \u001b[0m\u001b[1mpath   \u001b[0m\u001b[1m \u001b[0m┃\u001b[1m \u001b[0m\u001b[1mmodule \u001b[0m\u001b[1m \u001b[0m┃\u001b[1m \u001b[0m\u001b[1minputs           \u001b[0m\u001b[1m \u001b[0m┃\u001b[1m \u001b[0m\u001b[1moutputs         \u001b[0m\u001b[1m \u001b[0m┃\u001b[1m \u001b[0m\u001b[1mparams           \u001b[0m\u001b[1m \u001b[0m┃\n",
      "┡━━━━━━━━━╇━━━━━━━━━╇━━━━━━━━━━━━━━━━━━━╇━━━━━━━━━━━━━━━━━━╇━━━━━━━━━━━━━━━━━━━┩\n",
      "│         │ Nlinear │ \u001b[2mfloat32\u001b[0m[1,4,7172… │ \u001b[2mfloat32\u001b[0m[1,32,71… │                   │\n",
      "├─────────┼─────────┼───────────────────┼──────────────────┼───────────────────┤\n",
      "│ Dense_0 │ Dense   │ \u001b[2mfloat32\u001b[0m[1,71721,… │ \u001b[2mfloat32\u001b[0m[1,71721… │ bias: \u001b[2mfloat32\u001b[0m[32] │\n",
      "│         │         │                   │                  │ kernel:           │\n",
      "│         │         │                   │                  │ \u001b[2mfloat32\u001b[0m[4,32]     │\n",
      "│         │         │                   │                  │                   │\n",
      "│         │         │                   │                  │ \u001b[1m160 \u001b[0m\u001b[1;2m(640 B)\u001b[0m       │\n",
      "├─────────┼─────────┼───────────────────┼──────────────────┼───────────────────┤\n",
      "│\u001b[1m \u001b[0m\u001b[1m       \u001b[0m\u001b[1m \u001b[0m│\u001b[1m \u001b[0m\u001b[1m       \u001b[0m\u001b[1m \u001b[0m│\u001b[1m \u001b[0m\u001b[1m                 \u001b[0m\u001b[1m \u001b[0m│\u001b[1m \u001b[0m\u001b[1m           Total\u001b[0m\u001b[1m \u001b[0m│\u001b[1m \u001b[0m\u001b[1m160 \u001b[0m\u001b[1;2m(640 B)\u001b[0m\u001b[1m      \u001b[0m\u001b[1m \u001b[0m│\n",
      "└─────────┴─────────┴───────────────────┴──────────────────┴───────────────────┘\n",
      "\u001b[1m                                                                                \u001b[0m\n",
      "\u001b[1m                         Total Parameters: 160 \u001b[0m\u001b[1;2m(640 B)\u001b[0m\u001b[1m                          \u001b[0m\n",
      "\n",
      "\n",
      "\n",
      "Output shape: (8, 32, 71721)\n"
     ]
    }
   ],
   "source": [
    "from zapbench.ts_forecasting.configs import linear\n",
    "import zapbench.models.util as model_util\n",
    "import jax\n",
    "import jax.numpy as jnp\n",
    "\n",
    "config = linear.get_config()\n",
    "model = model_util.model_from_config(config)\n",
    "init_rng, dropout_rng = jax.random.split(jax.random.PRNGKey(42), num=2)\n",
    "variables = model.init(init_rng, jnp.ones(config.series_shape), train=False)\n",
    "params = variables['params']\n",
    "batch_stats = variables.get('batch_stats', None)\n",
    "\n",
    "input_batch = jnp.ones((8, 4, 71721))\n",
    "output = model.apply(variables, input_batch, train=False)\n",
    "\n",
    "print(\"=== Model Structure ===\")\n",
    "print(model)\n",
    "\n",
    "print(\"\\n=== Parameter Shapes ===\")\n",
    "print(jax.tree_util.tree_map(lambda x: x.shape, params))\n",
    "\n",
    "print(\"\\n=== Detailed Parameters ===\")\n",
    "for path, param in jax.tree_util.tree_flatten_with_path(params)[0]:\n",
    "    path_str = '.'.join(str(k.key) for k in path)\n",
    "    print(f\"{path_str:20} {param.shape} ({param.size:,} params)\")\n",
    "\n",
    "print(\"\\n=== Model Tabulate ===\")\n",
    "print(model.tabulate(jax.random.PRNGKey(0), jnp.ones((1, 4, 71721))))\n",
    "\n",
    "print(f\"\\nOutput shape: {output.shape}\")\n"
   ]
  },
  {
   "cell_type": "code",
   "execution_count": 4,
   "id": "c7f2de16",
   "metadata": {},
   "outputs": [
    {
     "name": "stdout",
     "output_type": "stream",
     "text": [
      "timeseries {'driver': 'zarr3', 'kvstore': {'bucket': 'zapbench-release', 'driver': 'gcs', 'path': 'volumes/20240930/traces/'}, 'transform': {'input_exclusive_max': [454, 71721], 'input_inclusive_min': [0, 0], 'input_labels': ['t', 'f'], 'output': [{'input_dimension': 0, 'offset': 1}, {'input_dimension': 1}]}}\n",
      "\n",
      "covariates {'driver': 'zarr', 'kvstore': {'bucket': 'zapbench-release', 'driver': 'gcs', 'path': 'volumes/20240930/stimuli_features/'}, 'metadata': {'shape': [7879, 26]}, 'transform': {'input_exclusive_max': [454, [26]], 'input_inclusive_min': [0, 0], 'input_labels': ['t', 'f'], 'output': [{'input_dimension': 0, 'offset': 1}, {'input_dimension': 1}]}}\n",
      "\n",
      "timeseries {'driver': 'zarr3', 'kvstore': {'bucket': 'zapbench-release', 'driver': 'gcs', 'path': 'volumes/20240930/traces/'}, 'transform': {'input_exclusive_max': [1240, 71721], 'input_inclusive_min': [0, 0], 'input_labels': ['t', 'f'], 'output': [{'input_dimension': 0, 'offset': 650}, {'input_dimension': 1}]}}\n",
      "\n",
      "covariates {'driver': 'zarr', 'kvstore': {'bucket': 'zapbench-release', 'driver': 'gcs', 'path': 'volumes/20240930/stimuli_features/'}, 'metadata': {'shape': [7879, 26]}, 'transform': {'input_exclusive_max': [1240, [26]], 'input_inclusive_min': [0, 0], 'input_labels': ['t', 'f'], 'output': [{'input_dimension': 0, 'offset': 650}, {'input_dimension': 1}]}}\n",
      "\n",
      "timeseries {'driver': 'zarr3', 'kvstore': {'bucket': 'zapbench-release', 'driver': 'gcs', 'path': 'volumes/20240930/traces/'}, 'transform': {'input_exclusive_max': [459, 71721], 'input_inclusive_min': [0, 0], 'input_labels': ['t', 'f'], 'output': [{'input_dimension': 0, 'offset': 2423}, {'input_dimension': 1}]}}\n",
      "\n",
      "covariates {'driver': 'zarr', 'kvstore': {'bucket': 'zapbench-release', 'driver': 'gcs', 'path': 'volumes/20240930/stimuli_features/'}, 'metadata': {'shape': [7879, 26]}, 'transform': {'input_exclusive_max': [459, [26]], 'input_inclusive_min': [0, 0], 'input_labels': ['t', 'f'], 'output': [{'input_dimension': 0, 'offset': 2423}, {'input_dimension': 1}]}}\n",
      "\n",
      "timeseries {'driver': 'zarr3', 'kvstore': {'bucket': 'zapbench-release', 'driver': 'gcs', 'path': 'volumes/20240930/traces/'}, 'transform': {'input_exclusive_max': [917, 71721], 'input_inclusive_min': [0, 0], 'input_labels': ['t', 'f'], 'output': [{'input_dimension': 0, 'offset': 3736}, {'input_dimension': 1}]}}\n",
      "\n",
      "covariates {'driver': 'zarr', 'kvstore': {'bucket': 'zapbench-release', 'driver': 'gcs', 'path': 'volumes/20240930/stimuli_features/'}, 'metadata': {'shape': [7879, 26]}, 'transform': {'input_exclusive_max': [917, [26]], 'input_inclusive_min': [0, 0], 'input_labels': ['t', 'f'], 'output': [{'input_dimension': 0, 'offset': 3736}, {'input_dimension': 1}]}}\n",
      "\n",
      "timeseries {'driver': 'zarr3', 'kvstore': {'bucket': 'zapbench-release', 'driver': 'gcs', 'path': 'volumes/20240930/traces/'}, 'transform': {'input_exclusive_max': [414, 71721], 'input_inclusive_min': [0, 0], 'input_labels': ['t', 'f'], 'output': [{'input_dimension': 0, 'offset': 5048}, {'input_dimension': 1}]}}\n",
      "\n",
      "covariates {'driver': 'zarr', 'kvstore': {'bucket': 'zapbench-release', 'driver': 'gcs', 'path': 'volumes/20240930/stimuli_features/'}, 'metadata': {'shape': [7879, 26]}, 'transform': {'input_exclusive_max': [414, [26]], 'input_inclusive_min': [0, 0], 'input_labels': ['t', 'f'], 'output': [{'input_dimension': 0, 'offset': 5048}, {'input_dimension': 1}]}}\n",
      "\n",
      "timeseries {'driver': 'zarr3', 'kvstore': {'bucket': 'zapbench-release', 'driver': 'gcs', 'path': 'volumes/20240930/traces/'}, 'transform': {'input_exclusive_max': [689, 71721], 'input_inclusive_min': [0, 0], 'input_labels': ['t', 'f'], 'output': [{'input_dimension': 0, 'offset': 5639}, {'input_dimension': 1}]}}\n",
      "\n",
      "covariates {'driver': 'zarr', 'kvstore': {'bucket': 'zapbench-release', 'driver': 'gcs', 'path': 'volumes/20240930/stimuli_features/'}, 'metadata': {'shape': [7879, 26]}, 'transform': {'input_exclusive_max': [689, [26]], 'input_inclusive_min': [0, 0], 'input_labels': ['t', 'f'], 'output': [{'input_dimension': 0, 'offset': 5639}, {'input_dimension': 1}]}}\n",
      "\n",
      "timeseries {'driver': 'zarr3', 'kvstore': {'bucket': 'zapbench-release', 'driver': 'gcs', 'path': 'volumes/20240930/traces/'}, 'transform': {'input_exclusive_max': [459, 71721], 'input_inclusive_min': [0, 0], 'input_labels': ['t', 'f'], 'output': [{'input_dimension': 0, 'offset': 6624}, {'input_dimension': 1}]}}\n",
      "\n",
      "covariates {'driver': 'zarr', 'kvstore': {'bucket': 'zapbench-release', 'driver': 'gcs', 'path': 'volumes/20240930/stimuli_features/'}, 'metadata': {'shape': [7879, 26]}, 'transform': {'input_exclusive_max': [459, [26]], 'input_inclusive_min': [0, 0], 'input_labels': ['t', 'f'], 'output': [{'input_dimension': 0, 'offset': 6624}, {'input_dimension': 1}]}}\n",
      "\n",
      "timeseries {'driver': 'zarr3', 'kvstore': {'bucket': 'zapbench-release', 'driver': 'gcs', 'path': 'volumes/20240930/traces/'}, 'transform': {'input_exclusive_max': [420, 71721], 'input_inclusive_min': [0, 0], 'input_labels': ['t', 'f'], 'output': [{'input_dimension': 0, 'offset': 7280}, {'input_dimension': 1}]}}\n",
      "\n",
      "covariates {'driver': 'zarr', 'kvstore': {'bucket': 'zapbench-release', 'driver': 'gcs', 'path': 'volumes/20240930/stimuli_features/'}, 'metadata': {'shape': [7879, 26]}, 'transform': {'input_exclusive_max': [420, [26]], 'input_inclusive_min': [0, 0], 'input_labels': ['t', 'f'], 'output': [{'input_dimension': 0, 'offset': 7280}, {'input_dimension': 1}]}}\n",
      "\n"
     ]
    }
   ],
   "source": [
    "for series in config.train_specs:\n",
    "  for name, input_spec in series.items():\n",
    "    print(name, input_spec)\n",
    "    print()"
   ]
  },
  {
   "cell_type": "code",
   "execution_count": null,
   "id": "cdbc5f68",
   "metadata": {},
   "outputs": [],
   "source": []
  }
 ],
 "metadata": {
  "kernelspec": {
   "display_name": "zapbench",
   "language": "python",
   "name": "python3"
  },
  "language_info": {
   "codemirror_mode": {
    "name": "ipython",
    "version": 3
   },
   "file_extension": ".py",
   "mimetype": "text/x-python",
   "name": "python",
   "nbconvert_exporter": "python",
   "pygments_lexer": "ipython3",
   "version": "3.11.11"
  }
 },
 "nbformat": 4,
 "nbformat_minor": 5
}
