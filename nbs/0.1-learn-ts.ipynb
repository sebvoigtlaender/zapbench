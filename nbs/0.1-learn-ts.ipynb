{
 "cells": [
  {
   "cell_type": "code",
   "execution_count": null,
   "metadata": {},
   "outputs": [],
   "source": [
    "import tensorstore as ts"
   ]
  },
  {
   "cell_type": "code",
   "execution_count": null,
   "metadata": {},
   "outputs": [],
   "source": [
    "zarr_dataset = ts.open({\n",
    "    'driver': 'zarr3',\n",
    "    'kvstore': {\n",
    "        'driver': 'file',\n",
    "        'path': 'tmp/dataset/',\n",
    "    },\n",
    "    'dtype': 'uint32',\n",
    "    'metadata': {\n",
    "        'shape': [1000, 1000],\n",
    "    },\n",
    "    'create': True,\n",
    "    'delete_existing': True,\n",
    "}).result()\n",
    "\n",
    "zarr_dataset[80:82, 99:102].write(a).result()"
   ]
  },
  {
   "cell_type": "code",
   "execution_count": null,
   "metadata": {},
   "outputs": [],
   "source": []
  }
 ],
 "metadata": {
  "kernelspec": {
   "display_name": "zapbench",
   "language": "python",
   "name": "python3"
  },
  "language_info": {
   "codemirror_mode": {
    "name": "ipython",
    "version": 3
   },
   "file_extension": ".py",
   "mimetype": "text/x-python",
   "name": "python",
   "nbconvert_exporter": "python",
   "pygments_lexer": "ipython3",
   "version": "3.11.11"
  }
 },
 "nbformat": 4,
 "nbformat_minor": 2
}
