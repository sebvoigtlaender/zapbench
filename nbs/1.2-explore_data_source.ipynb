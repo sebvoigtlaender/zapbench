{
  "cells": [
    {
      "cell_type": "code",
      "execution_count": null,
      "metadata": {
        "id": "QiM8zpVCNRuR"
      },
      "outputs": [],
      "source": [
        "#!/usr/bin/env python3\n",
        "\"\"\"Script to understand exactly how num_train_records is calculated.\"\"\"\n",
        "\n",
        "import sys\n",
        "import os\n",
        "\n",
        "from zapbench.ts_forecasting.configs import linear\n",
        "from zapbench.ts_forecasting import input_pipeline\n",
        "from zapbench.ts_forecasting import data_source\n",
        "import jax"
      ]
    },
    {
      "cell_type": "code",
      "execution_count": null,
      "metadata": {},
      "outputs": [],
      "source": [
        "config = linear.get_config(\"normalization=4\")\n",
        "\n",
        "config.num_epochs"
      ]
    },
    {
      "cell_type": "code",
      "execution_count": null,
      "metadata": {},
      "outputs": [],
      "source": [
        "# Copyright 2025 The Google Research Authors.\n",
        "#\n",
        "# Licensed under the Apache License, Version 2.0 (the \"License\");\n",
        "# you may not use this file except in compliance with the License.\n",
        "# You may obtain a copy of the License at\n",
        "#\n",
        "#     http://www.apache.org/licenses/LICENSE-2.0\n",
        "#\n",
        "# Unless required by applicable law or agreed to in writing, software\n",
        "# distributed under the License is distributed on an \"AS IS\" BASIS,\n",
        "# WITHOUT WARRANTIES OR CONDITIONS OF ANY KIND, either express or implied.\n",
        "# See the License for the specific language governing permissions and\n",
        "# limitations under the License.\n",
        "\n",
        "\"\"\"Linear models.\"\"\"\n",
        "\n",
        "from collections import abc\n",
        "import dataclasses\n",
        "\n",
        "from connectomics.jax import config_util\n",
        "import immutabledict\n",
        "import ml_collections as mlc\n",
        "from zapbench import constants\n",
        "from zapbench import hparam_utils as hyper\n",
        "from zapbench.models import nlinear\n",
        "from zapbench.ts_forecasting.configs import common\n",
        "\n",
        "\n",
        "_ARGS = immutabledict.immutabledict({\n",
        "    'normalization': False,\n",
        "    'seed': -1,\n",
        "    'timesteps_input': 4,\n",
        "    'num_epochs': 1,\n",
        "    'val_ckpt_every_steps': 250,\n",
        "    'log_loss_every_steps': 100,\n",
        "})\n",
        "config = mlc.ConfigDict()\n",
        "config.arg = config_util.parse_arg(\"timesteps_input=4,num_epochs=10\", **_ARGS)"
      ]
    },
    {
      "cell_type": "code",
      "execution_count": null,
      "metadata": {},
      "outputs": [],
      "source": [
        "config.update(common.get_config(**config.arg))"
      ]
    },
    {
      "cell_type": "code",
      "execution_count": null,
      "metadata": {},
      "outputs": [],
      "source": [
        "config.num_epochs"
      ]
    },
    {
      "cell_type": "code",
      "execution_count": null,
      "metadata": {},
      "outputs": [],
      "source": [
        "from zapbench.ts_forecasting.configs import linear\n",
        "from zapbench.ts_forecasting import input_pipeline\n",
        "from zapbench.ts_forecasting import data_source\n",
        "from connectomics.jax import grain_util\n",
        "import grain.python as grain\n",
        "import jax\n",
        "\n",
        "config = linear.get_config(\"timesteps_input=4\")\n",
        "drop_remainder = True\n",
        "shard_options = grain.ShardByJaxProcess(drop_remainder=drop_remainder)\n",
        "all_ops = input_pipeline.get_all_ops()\n",
        "transformations = list(grain_util.parse(config.pre_process_str, all_ops))\n",
        "process_batch_size = jax.local_device_count() * config.per_device_batch_size\n",
        "batch_op = grain.Batch(batch_size=process_batch_size, drop_remainder=drop_remainder)\n",
        "transformations.append(batch_op)\n",
        "transformations += list(grain_util.parse(config.batch_process_str, all_ops))\n",
        "\n",
        "train_source = data_source.ConcatenatedTensorStoreTimeSeries(*[\n",
        "    data_source.MergedTensorStoreTimeSeries(*[\n",
        "        data_source.TensorStoreTimeSeries(\n",
        "            config=data_source.TensorStoreTimeSeriesConfig(\n",
        "                input_spec=input_spec.to_dict() if hasattr(input_spec, 'to_dict') else input_spec,\n",
        "                timesteps_input=config.timesteps_input,\n",
        "                timesteps_output=config.timesteps_output,\n",
        "            ),\n",
        "            prefetch=config.prefetch,\n",
        "            prefix=name,\n",
        "            sequential=config.sequential_data_source,\n",
        "        )\n",
        "        for name, input_spec in series.items()\n",
        "    ])\n",
        "    for series in config.train_specs\n",
        "])\n",
        "\n",
        "train_sampler = grain.IndexSampler(\n",
        "    num_records=len(train_source),\n",
        "    shuffle=True,\n",
        "    seed=42,\n",
        "    num_epochs=config.num_epochs,\n",
        "    shard_options=shard_options,\n",
        ")\n",
        "\n",
        "train_loader = grain.DataLoader(\n",
        "    data_source=train_source,\n",
        "    sampler=train_sampler,\n",
        "    operations=transformations,\n",
        "    worker_count=config.grain_num_workers,\n",
        ")\n",
        "\n",
        "train_iter = iter(train_loader)\n",
        "batch = next(train_iter)"
      ]
    },
    {
      "cell_type": "code",
      "execution_count": null,
      "metadata": {},
      "outputs": [],
      "source": [
        "train_source"
      ]
    },
    {
      "cell_type": "code",
      "execution_count": null,
      "metadata": {},
      "outputs": [],
      "source": [
        "from zapbench.data_utils import get_condition_bounds, adjust_condition_bounds_for_split, get_spec, adjust_spec_for_condition_and_split"
      ]
    },
    {
      "cell_type": "code",
      "execution_count": null,
      "metadata": {},
      "outputs": [],
      "source": [
        "inclusive_min, exclusive_max = get_condition_bounds(0)\n",
        "adjust_condition_bounds_for_split('train', inclusive_min, exclusive_max, 4), inclusive_min, exclusive_max"
      ]
    },
    {
      "cell_type": "code",
      "execution_count": null,
      "metadata": {},
      "outputs": [],
      "source": [
        "ts.d['t']"
      ]
    },
    {
      "cell_type": "code",
      "execution_count": null,
      "metadata": {},
      "outputs": [],
      "source": [
        "spec[ts.d['t'][slice(inclusive_min, exclusive_max)]]"
      ]
    },
    {
      "cell_type": "code",
      "execution_count": null,
      "metadata": {},
      "outputs": [],
      "source": [
        "import tensorstore as ts\n",
        "\n",
        "spec = get_spec('240930_traces')\n",
        "spec\n",
        "ds = ts.open(adjust_spec_for_condition_and_split(spec, 1, 'train', 32)).result()"
      ]
    },
    {
      "cell_type": "code",
      "execution_count": null,
      "metadata": {},
      "outputs": [],
      "source": [
        "ds"
      ]
    },
    {
      "cell_type": "code",
      "execution_count": null,
      "metadata": {},
      "outputs": [],
      "source": [
        "adjust_spec_for_condition_and_split(spec, 1, 'train', 32)"
      ]
    },
    {
      "cell_type": "code",
      "execution_count": null,
      "metadata": {},
      "outputs": [],
      "source": [
        "ts.open(spec[ts.d['t'][[0, 1, 2, 3, 4, 7, 8]]].translate_to[0]).result()"
      ]
    },
    {
      "cell_type": "code",
      "execution_count": null,
      "metadata": {},
      "outputs": [],
      "source": [
        "transformations, process_batch_size, config.grain_num_workers"
      ]
    },
    {
      "cell_type": "code",
      "execution_count": null,
      "metadata": {},
      "outputs": [],
      "source": [
        "train_source.srcs[-1].srcs[0]._len, train_source.srcs[1].srcs[0]._len"
      ]
    },
    {
      "cell_type": "code",
      "execution_count": null,
      "metadata": {},
      "outputs": [],
      "source": [
        "batch.keys()"
      ]
    },
    {
      "cell_type": "code",
      "execution_count": null,
      "metadata": {},
      "outputs": [],
      "source": [
        "batch['timeseries_input'].shape, batch['timeseries_output'].shape, batch['timestep']"
      ]
    },
    {
      "cell_type": "markdown",
      "metadata": {},
      "source": [
        "Explore linear model"
      ]
    },
    {
      "cell_type": "code",
      "execution_count": null,
      "metadata": {},
      "outputs": [],
      "source": [
        "from zapbench.ts_forecasting.configs import linear\n",
        "import zapbench.models.util as model_util\n",
        "import jax\n",
        "import jax.numpy as jnp\n",
        "\n",
        "config = linear.get_config()\n",
        "model = model_util.model_from_config(config)\n",
        "init_rng, dropout_rng = jax.random.split(jax.random.PRNGKey(42), num=2)\n",
        "variables = model.init(init_rng, jnp.ones(config.series_shape), train=False)\n",
        "params = variables['params']\n",
        "batch_stats = variables.get('batch_stats', None)\n",
        "\n",
        "input_batch = jnp.ones((8, 4, 71721))\n",
        "output = model.apply(variables, input_batch, train=False)"
      ]
    },
    {
      "cell_type": "code",
      "execution_count": null,
      "metadata": {},
      "outputs": [],
      "source": [
        "model"
      ]
    },
    {
      "cell_type": "code",
      "execution_count": null,
      "metadata": {},
      "outputs": [],
      "source": [
        "input_batch = jnp.ones((8, 4, 71721))\n",
        "output = model.apply(variables, input_batch, train=False)\n",
        "\n",
        "print(\"=== Model Structure ===\")\n",
        "print(model)\n",
        "\n",
        "print(\"\\n=== Parameter Shapes ===\")\n",
        "print(jax.tree_util.tree_map(lambda x: x.shape, params))\n",
        "\n",
        "print(\"\\n=== Detailed Parameters ===\")\n",
        "for path, param in jax.tree_util.tree_flatten_with_path(params)[0]:\n",
        "    path_str = '.'.join(str(k.key) for k in path)\n",
        "    print(f\"{path_str:20} {param.shape} ({param.size:,} params)\")\n",
        "\n",
        "print(\"\\n=== Model Tabulate ===\")\n",
        "print(model.tabulate(jax.random.PRNGKey(0), jnp.ones((1, 4, 71721))))\n",
        "\n",
        "print(f\"\\nOutput shape: {output.shape}\")\n"
      ]
    },
    {
      "cell_type": "markdown",
      "metadata": {},
      "source": [
        "Review code changes"
      ]
    },
    {
      "cell_type": "code",
      "execution_count": null,
      "metadata": {},
      "outputs": [],
      "source": []
    },
    {
      "cell_type": "code",
      "execution_count": null,
      "metadata": {},
      "outputs": [],
      "source": [
        "import tensorstore as ts\n",
        "from typing import Optional\n",
        "from connectomics.jax import grain_util\n",
        "FlatFeatures = grain_util.FlatFeatures\n",
        "\n",
        "from zapbench import constants"
      ]
    },
    {
      "cell_type": "code",
      "execution_count": null,
      "metadata": {},
      "outputs": [],
      "source": [
        "constants.get_dataset_config(constants.DEFAULT_DATASET)['condition_intervals']"
      ]
    },
    {
      "cell_type": "code",
      "execution_count": null,
      "metadata": {},
      "outputs": [],
      "source": [
        "\n",
        "## 2. DATA_UTILS.PY MODIFICATIONS\n",
        "\n",
        "### New Function: get_condition_intervals()\n",
        "def get_condition_intervals(condition: int, dataset_name: str = constants.DEFAULT_DATASET) -> tuple[tuple[int, int], ...]:\n",
        "    \"\"\"Get padded intervals for a condition.\"\"\"\n",
        "    dataset_config = constants.get_dataset_config(dataset_name)\n",
        "    intervals = dataset_config['condition_intervals'][condition]\n",
        "\n",
        "    padded_intervals = []\n",
        "    for start, end in intervals:\n",
        "        padded_start = start + constants.CONDITION_PADDING\n",
        "        padded_end = end - constants.CONDITION_PADDING\n",
        "        if padded_start < padded_end:\n",
        "            padded_intervals.append((padded_start, padded_end))\n",
        "\n",
        "    return tuple(padded_intervals)\n",
        "\n",
        "get_condition_intervals(2)"
      ]
    },
    {
      "cell_type": "code",
      "execution_count": null,
      "metadata": {},
      "outputs": [],
      "source": [
        "from zapbench import constants\n",
        "\n",
        "def safe_calculate_window_size(num_timesteps_context: int) -> int:\n",
        "    \"\"\"Calculate window size with safety checks and logging.\"\"\"\n",
        "    if num_timesteps_context <= 0:\n",
        "        raise ValueError(f\"num_timesteps_context must be > 0, got {num_timesteps_context}\")\n",
        "\n",
        "    if num_timesteps_context > constants.MAX_CONTEXT_LENGTH:\n",
        "        raise ValueError(f\"num_timesteps_context {num_timesteps_context} exceeds MAX_CONTEXT_LENGTH {constants.MAX_CONTEXT_LENGTH}\")\n",
        "\n",
        "    window_size = num_timesteps_context + constants.PREDICTION_WINDOW_LENGTH\n",
        "    return window_size\n",
        "\n",
        "safe_calculate_window_size(4)"
      ]
    },
    {
      "cell_type": "code",
      "execution_count": null,
      "metadata": {},
      "outputs": [],
      "source": [
        "def build_valid_timesteps(intervals: tuple[tuple[int, int], ...], window_size: int) -> list[int]:\n",
        "    \"\"\"Build timesteps that can start complete windows within intervals.\"\"\"\n",
        "    valid_timesteps = []\n",
        "    min_interval_size = float('inf')\n",
        "\n",
        "    for start, end in intervals:\n",
        "        interval_size = end - start\n",
        "        min_interval_size = min(min_interval_size, interval_size)\n",
        "\n",
        "        if interval_size >= window_size:\n",
        "            valid_timesteps.extend(range(start, end - window_size + 1))\n",
        "        else:\n",
        "            print(f\"Warning: Interval [{start}, {end}) too small for window_size {window_size}\")\n",
        "\n",
        "    if not valid_timesteps:\n",
        "        raise ValueError(f\"No intervals large enough for window_size={window_size}. \"\n",
        "                        f\"Minimum interval size: {min_interval_size}\")\n",
        "\n",
        "    return sorted(valid_timesteps)\n",
        "\n",
        "print(constants.get_dataset_config(constants.DEFAULT_DATASET)['condition_intervals'][0])\n",
        "build_valid_timesteps(((0, 10),(20, 30)), 7)"
      ]
    },
    {
      "cell_type": "code",
      "execution_count": null,
      "metadata": {},
      "outputs": [],
      "source": [
        "def adjust_spec_for_condition_and_split(\n",
        "    spec: ts.Spec,\n",
        "    condition: int,\n",
        "    split: Optional[str],\n",
        "    num_timesteps_context: int,\n",
        "    dataset_name: str = constants.DEFAULT_DATASET,\n",
        ") -> ts.Spec:\n",
        "    \"\"\"Adjust spec for multi-interval conditions with gap-aware windowing.\"\"\"\n",
        "    intervals = get_condition_intervals(condition, dataset_name)\n",
        "    window_size = safe_calculate_window_size(num_timesteps_context)\n",
        "    valid_timesteps = build_valid_timesteps(intervals, window_size)\n",
        "\n",
        "    # Apply train/val/test split\n",
        "    if split:\n",
        "        total = len(valid_timesteps)\n",
        "        test_count = int(total * constants.TEST_FRACTION)\n",
        "        val_count = int(total * constants.VAL_FRACTION)\n",
        "        train_count = total - test_count - val_count\n",
        "\n",
        "        if split == 'train':\n",
        "            valid_timesteps = valid_timesteps[:train_count]\n",
        "        elif split == 'val':\n",
        "            val_start = max(0, train_count - num_timesteps_context)\n",
        "            valid_timesteps = valid_timesteps[val_start:train_count + val_count]\n",
        "        elif split == 'test':\n",
        "            test_start = max(0, train_count + val_count - num_timesteps_context)\n",
        "            valid_timesteps = valid_timesteps[test_start:]\n",
        "        elif split == 'test_holdout':\n",
        "            holdout_start = max(0, total - constants.MAX_CONTEXT_LENGTH - constants.PREDICTION_WINDOW_LENGTH)\n",
        "            valid_timesteps = valid_timesteps[holdout_start:]\n",
        "\n",
        "    is_contiguous = len(valid_timesteps) == (valid_timesteps[-1] - valid_timesteps[0] + 1)\n",
        "    if is_contiguous:\n",
        "        return spec[ts.d['t'][slice(valid_timesteps[0], valid_timesteps[-1] + 1)]].translate_to[0]\n",
        "    else:\n",
        "        return spec[ts.d['t'][valid_timesteps]].translate_to[0]\n",
        "\n",
        "\n",
        "adjust_spec_for_condition_and_split(\n",
        "    spec,\n",
        "    condition=0,\n",
        "    split='train',\n",
        "    num_timesteps_context=constants.MAX_CONTEXT_LENGTH,\n",
        "    dataset_name=constants.DEFAULT_DATASET,\n",
        ")"
      ]
    },
    {
      "cell_type": "code",
      "execution_count": null,
      "metadata": {},
      "outputs": [],
      "source": []
    },
    {
      "cell_type": "code",
      "execution_count": null,
      "metadata": {},
      "outputs": [],
      "source": []
    },
    {
      "cell_type": "code",
      "execution_count": null,
      "metadata": {},
      "outputs": [],
      "source": []
    },
    {
      "cell_type": "code",
      "execution_count": null,
      "metadata": {},
      "outputs": [],
      "source": []
    },
    {
      "cell_type": "code",
      "execution_count": null,
      "metadata": {},
      "outputs": [],
      "source": []
    }
  ],
  "metadata": {
    "colab": {
      "private_outputs": true,
      "provenance": []
    },
    "kernelspec": {
      "display_name": "zapbench",
      "language": "python",
      "name": "python3"
    },
    "language_info": {
      "codemirror_mode": {
        "name": "ipython",
        "version": 3
      },
      "file_extension": ".py",
      "mimetype": "text/x-python",
      "name": "python",
      "nbconvert_exporter": "python",
      "pygments_lexer": "ipython3",
      "version": "3.11.11"
    }
  },
  "nbformat": 4,
  "nbformat_minor": 0
}
